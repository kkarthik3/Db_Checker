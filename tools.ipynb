{
 "cells": [
  {
   "cell_type": "code",
   "execution_count": 1,
   "metadata": {},
   "outputs": [],
   "source": [
    "#Live Database\n",
    "import json\n",
    "from langchain_community.graphs import Neo4jGraph\n",
    "def graph_db():\n",
    "    graph = Neo4jGraph(\n",
    "        url=\"neo4j+s://1eab09b0.databases.neo4j.io\", username=\"neo4j\", password=\"ykfXWCmzh4aIxmlj50k52ldHX7qvFvVbHN4Qmm3Z8ZA\")\n",
    "    return graph\n",
    "live_graph = graph_db()\n",
    "\n",
    "schema = graph_db().schema\n",
    "# print(schema)"
   ]
  },
  {
   "cell_type": "code",
   "execution_count": 13,
   "metadata": {},
   "outputs": [],
   "source": [
    "#TEST DATABASE\n",
    "from langchain_community.graphs import Neo4jGraph\n",
    "def graph_db():\n",
    "    graph = Neo4jGraph(\n",
    "        url=\"neo4j+s://d652d339.databases.neo4j.io\", username=\"neo4j\", password=\"S_rv6XHVT3WdLHrXfgKxEPEu7an6vsc71HFS6ZzpJfc\")\n",
    "    return graph\n",
    "\n",
    "schema = graph_db().schema\n",
    "test_graph = graph_db()\n",
    "# print(schema)"
   ]
  },
  {
   "cell_type": "code",
   "execution_count": 14,
   "metadata": {},
   "outputs": [],
   "source": [
    "import phonenumbers\n",
    "from email_validator import validate_email, EmailNotValidError\n",
    "from phonenumbers import NumberParseException, is_valid_number\n",
    "import re\n",
    "\n",
    "def validate_email_address(email):\n",
    "    \"\"\"\n",
    "    Validate the email address format and provide feedback to the lead agent.\n",
    "    \"\"\"\n",
    "    try:\n",
    "        valid = validate_email(email)\n",
    "        email = valid.email\n",
    "        return True\n",
    "    except EmailNotValidError as e:\n",
    "        return f\"The email address '{email}' is invalid. Please verify and provide a correct email address format.\"\n",
    "\n",
    "def validate_phone_number(number: str):\n",
    "    \"\"\"\n",
    "    Validate the phone number format including the country code and provide feedback to the lead agent.\n",
    "    \"\"\"\n",
    "    if not number.startswith('+'):\n",
    "        return \"The phone number must include the country code (e.g., +1 for the US). Please provide the correct format.\"\n",
    "\n",
    "    if not number[1:].replace(\"-\", \"\").replace(\" \", \"\").isdigit():\n",
    "        return \"The phone number contains invalid characters. Ensure that it only contains digits, spaces, or hyphens after the country code.\"\n",
    "\n",
    "    try:\n",
    "        phone_number = phonenumbers.parse(number)\n",
    "        if is_valid_number(phone_number):\n",
    "            return True\n",
    "        else:\n",
    "            return f\"The phone number '{number}' is not valid. Please double-check the number and try again.\"\n",
    "    except NumberParseException:\n",
    "        return f\"An error occurred while validating the phone number '{number}'. Please verify that it is in the correct international format.\"\n",
    "\n",
    "def validate_civil_id(civil_id):\n",
    "    \"\"\"\n",
    "    Validate the Civil ID format and provide feedback to the lead agent.\n",
    "    \"\"\"\n",
    "    civil_id_regex = r'^\\d{12}$'\n",
    "\n",
    "    if re.fullmatch(civil_id_regex, civil_id):\n",
    "        return True\n",
    "    else:\n",
    "        return f\"The Civil ID '{civil_id}' is invalid. A valid Civil ID should contain exactly 12 digits with no other characters.\"\n"
   ]
  },
  {
   "cell_type": "code",
   "execution_count": 18,
   "metadata": {},
   "outputs": [],
   "source": [
    "def verify_lead(name: str = None, email: str = None, phone: str = None, civil_id: str = None):\n",
    "    \"\"\"\n",
    "    Verify the existence of the Customer in our Database before lead creation.\n",
    "    \n",
    "    Parameters:\n",
    "    - name: Customer's name (optional).\n",
    "    - email: Customer's email (optional).\n",
    "    - phone: Customer's phone (optional).\n",
    "    - civil_id: Customer's civil ID (optional).\n",
    "    \n",
    "    Returns:\n",
    "    - Clear and actionable messages for the lead agent to understand the verification results.\n",
    "    \"\"\"\n",
    "    def validation():\n",
    "        phone_validation = True\n",
    "        civil_validation = True\n",
    "        email_validation = True\n",
    "\n",
    "        if phone:\n",
    "            phone_validation = validate_phone_number(phone)\n",
    "            if phone_validation is not True:\n",
    "                return phone_validation\n",
    "        \n",
    "        if civil_id:\n",
    "            civil_validation = validate_civil_id(civil_id)\n",
    "            if civil_validation is not True:\n",
    "                return civil_validation\n",
    "        \n",
    "        if email:\n",
    "            email_validation = validate_email_address(email)\n",
    "            if email_validation is not True:\n",
    "                return email_validation\n",
    "\n",
    "        # If all validations pass, return True\n",
    "        return all([phone_validation, civil_validation, email_validation])\n",
    "\n",
    "    validated = validation()\n",
    "\n",
    "    if validated == True:\n",
    "\n",
    "        name_query = \"\"\"\n",
    "                    MATCH (c:Lead)\n",
    "                    WITH c, apoc.text.levenshteinSimilarity(toLower(c.name), toLower($name)) AS similarity_score\n",
    "                    WHERE similarity_score > 0.45\n",
    "                    RETURN c.name AS customer_name, c.phone_number AS phone_number, c.email AS email, c.civil_id AS civil_id\n",
    "                    ORDER BY similarity_score DESC\n",
    "                    \"\"\"\n",
    "\n",
    "        name_contains_query = \"\"\"\n",
    "                    MATCH (c:Lead)\n",
    "                    WHERE toLower(c.name) CONTAINS toLower($name)\n",
    "                    RETURN c.name AS customer_name, \n",
    "                        c.phone_number AS phone_number, \n",
    "                        c.email AS email, \n",
    "                        c.civil_id AS civil_id\n",
    "                    \"\"\"\n",
    "        both_query = \"\"\"MATCH (c:Lead)\n",
    "                        WHERE toLower(c.name) CONTAINS toLower($name)\n",
    "                        WITH c\n",
    "                        WITH c, apoc.text.levenshteinSimilarity(toLower(c.name), toLower($name)) AS similarity_score\n",
    "                        WHERE similarity_score > 0.6\n",
    "                        RETURN c.name AS customer_name, \n",
    "                            c.phone_number AS phone_number, \n",
    "                            c.email AS email, \n",
    "                            c.civil_id AS civil_id\n",
    "                        ORDER BY similarity_score DESC\n",
    "                        \"\"\"    \n",
    "\n",
    "        if name and all(x is None for x in (phone, civil_id, email)):\n",
    "\n",
    "            name_result = live_graph.query(name_query, {'name': name})\n",
    "            name_contains_result = live_graph.query(name_contains_query, {'name': name})\n",
    "            both_result = live_graph.query(both_query, {'name': name})\n",
    "\n",
    "            if name_result:\n",
    "                return f\"The provided Name is associated with the following customer(s): {[entry['customer_name'] for entry in name_result]}. Would you like to proceed with one of these customers, or would you prefer to create a new lead?\"        \n",
    "            else:\n",
    "                return f\"No matching results were found for the name '{name}'. Please review or confirm the provided details. Would you like to create a new lead instead?\"\n",
    "\n",
    "        else:\n",
    "            query = \"\"\"\n",
    "            MATCH (l:Lead)\n",
    "            WHERE toLower(l.name) = toLower($name)\n",
    "            \"\"\"\n",
    "            conditions = []\n",
    "            if phone:\n",
    "                conditions.append(\"l.phone_number = $phone\")\n",
    "            if civil_id:\n",
    "                conditions.append(\"l.civil_id = $civil_id\")\n",
    "            if email:\n",
    "                conditions.append(\"l.email = $email\")\n",
    "            \n",
    "            if conditions:\n",
    "                query += \" AND \" + \" AND \".join(conditions)\n",
    "\n",
    "            query += \"\"\"\n",
    "            RETURN l.name AS lead_name, l.phone_number AS phone_number, l.civil_id AS civil_id, l.email AS email, l.id AS lead_id\n",
    "            \"\"\"        \n",
    "            verified_result = live_graph.query(query, {\n",
    "                'name': name,\n",
    "                'phone': phone,\n",
    "                'civil_id': civil_id,\n",
    "                'email': email\n",
    "            })\n",
    "\n",
    "            if verified_result:\n",
    "                return f\"A customer named '{name}' already exists in our system with matching details (Phone: {verified_result[0]['phone_number']}, Email: {verified_result[0]['email']}, Civil ID: {verified_result[0]['civil_id']}). Would you like to proceed with this customer, or create a new lead?\"\n",
    "            \n",
    "            else:        \n",
    "                cypher_queries = []\n",
    "                semi_verified_result = []\n",
    "\n",
    "                if phone:\n",
    "                    phone_query = \"\"\"\n",
    "                    MATCH (c:Lead)\n",
    "                    WHERE c.phone_number = $phone \n",
    "                    RETURN c.name AS customer_name, c.phone_number AS phone_number, c.email AS email, c.civil_id AS civil_id\n",
    "                    \"\"\"\n",
    "                    cypher_queries.append((\"phone number\", phone_query))\n",
    "\n",
    "                if civil_id:\n",
    "                    civil_id_query = \"\"\"\n",
    "                    MATCH (c:Lead) \n",
    "                    WHERE c.civil_id = $civil_id \n",
    "                    RETURN c.name AS customer_name, c.phone_number AS phone_number, c.email AS email, c.civil_id AS civil_id\n",
    "                    \"\"\"\n",
    "                    cypher_queries.append((\"civil ID\", civil_id_query))\n",
    "\n",
    "                if email:\n",
    "                    email_query = \"\"\"\n",
    "                    MATCH (c:Lead) \n",
    "                    WHERE c.email = $email \n",
    "                    RETURN c.name AS customer_name, c.phone_number AS phone_number, c.email AS email, c.civil_id AS civil_id\n",
    "                    \"\"\"\n",
    "                    cypher_queries.append((\"email\", email_query))\n",
    "\n",
    "                for query_type, query in cypher_queries:\n",
    "                    db_result = live_graph.query(query, {\n",
    "                        'name': name,\n",
    "                        'phone': phone,\n",
    "                        'civil_id': civil_id,\n",
    "                        'email': email\n",
    "                    })\n",
    "\n",
    "                    if db_result:\n",
    "                        return f\"I have identified that the {query_type} you provided is associated with {db_result[0]['customer_name']}. Could you please confirm or provide the correct {query_type} for {name}?\"\n",
    "\n",
    "                    else:\n",
    "                        return f\"I was unable to locate the {query_type} ({phone if query_type == 'phone number' else civil_id if query_type == 'civil ID' else email}) in our system. Would you like to proceed with creating a new lead?\"\n",
    "    else:return validated"
   ]
  },
  {
   "cell_type": "code",
   "execution_count": 20,
   "metadata": {},
   "outputs": [
    {
     "data": {
      "text/plain": [
       "\"The provided Name is associated with the following customer(s): ['Kannan shanmugam']. Would you like to proceed with one of these customers, or would you prefer to create a new lead?\""
      ]
     },
     "execution_count": 20,
     "metadata": {},
     "output_type": "execute_result"
    }
   ],
   "source": [
    "verify_lead(name=\"shanmugam\")"
   ]
  },
  {
   "cell_type": "code",
   "execution_count": 340,
   "metadata": {},
   "outputs": [],
   "source": [
    "#creation tool\n",
    "\n",
    "# model = live_graph.query(\"MATCH (m:Model) RETURN m\", {})\n",
    "model = \"TIGGO8PRO\"\n",
    "variant = \"TIGGO8 PRO 1.5L I4 PHEV PREMIUM\"\n",
    "\n",
    "def create_lead(name: str, phone: str, civil_id: str, email: str):\n",
    "\n",
    "    if validate_email_address(email) and validate_phone_number(phone) and validate_civil_id(civil_id):\n",
    "        query = \"\"\"\n",
    "                MERGE (l:Customer {phone_number: $mobile})\n",
    "                ON CREATE SET l.createdAt = $createdAt,\n",
    "                            l.id = apoc.create.uuid()\n",
    "                SET l.name = $name,\n",
    "                    l.email = $email,\n",
    "                    l.model = $model,\n",
    "                    l.variant = $variant,\n",
    "                    l.civil_id = $civil_id\n",
    "           \n",
    "                WITH l\n",
    "                MERGE (c:Lead {id: l.id})\n",
    "                ON CREATE SET c.createdAt = $createdAt\n",
    "                SET c.name = $name, \n",
    "                    c.phone_number = $mobile, \n",
    "                    c.email = $email, \n",
    "                    c.model = $model,\n",
    "                    c.variant = $variant,\n",
    "                    c.level = \"High\"\n",
    "                MERGE (l)-[:CUSTOMER_OF_LEAD]->(c)\n",
    "                \n",
    "                WITH l  // Added this line\n",
    "                MATCH (m:Model{name : $model})\n",
    "                MERGE (c)-[:PREFERENCE]->(m)\n",
    "            \"\"\"\n",
    "        params = {\n",
    "            \"name\": name.capitalize(),\n",
    "            \"mobile\": phone,\n",
    "            \"email\":email,\n",
    "            \"createdAt\": datetime.datetime.now().isoformat(),\n",
    "            \"variant\" : variant,\n",
    "            \"model\" : model,\n",
    "            \"civil_id\" : civil_id\n",
    "        }\n",
    "        test_graph.query(query, params)\n",
    "\n",
    "        return f\"Successfully created lead for {name}\\n View Info of {name}({phone})\"\n"
   ]
  },
  {
   "cell_type": "code",
   "execution_count": null,
   "metadata": {},
   "outputs": [],
   "source": []
  },
  {
   "cell_type": "code",
   "execution_count": 9,
   "metadata": {},
   "outputs": [
    {
     "data": {
      "text/plain": [
       "\"No matching results were found for the name 'kannan'. Please review or confirm the provided details. Would you like to create a new lead instead?\""
      ]
     },
     "execution_count": 9,
     "metadata": {},
     "output_type": "execute_result"
    }
   ],
   "source": [
    "from verifylead import verify_lead\n",
    "verify_lead(name=\"kannan\")"
   ]
  },
  {
   "cell_type": "code",
   "execution_count": null,
   "metadata": {},
   "outputs": [],
   "source": []
  },
  {
   "cell_type": "code",
   "execution_count": null,
   "metadata": {},
   "outputs": [],
   "source": []
  },
  {
   "cell_type": "code",
   "execution_count": null,
   "metadata": {},
   "outputs": [],
   "source": []
  },
  {
   "cell_type": "code",
   "execution_count": 2,
   "metadata": {},
   "outputs": [
    {
     "name": "stdout",
     "output_type": "stream",
     "text": [
      "0.12942838668823242\n"
     ]
    }
   ],
   "source": [
    "\n",
    "import time\n",
    "start = time.time()\n",
    "query = live_graph.query(\"\"\"MATCH (c:Lead) RETURN c.name AS customer_name\"\"\")\n",
    "names_list = [name for i in query for name in [i['customer_name']]]\n",
    "print(time.time() - start)"
   ]
  },
  {
   "cell_type": "code",
   "execution_count": 3,
   "metadata": {},
   "outputs": [],
   "source": [
    "def split_names(names):\n",
    "    return [name.split(' ', 1) if ' ' in name else name for name in names]\n",
    "\n",
    "names_list = split_names(names_list)"
   ]
  },
  {
   "cell_type": "code",
   "execution_count": 4,
   "metadata": {},
   "outputs": [],
   "source": [
    "names_list.append([\"Ramesh\",\"sekar\"])"
   ]
  },
  {
   "cell_type": "code",
   "execution_count": 5,
   "metadata": {},
   "outputs": [],
   "source": [
    "from pyjarowinkler import distance\n",
    "\n",
    "def find_similar_names_jaro_winkler(user_name, names_list, threshold=0.7):\n",
    "    similar_names = []\n",
    "    for name in names_list:\n",
    "        if isinstance(name, str):\n",
    "            similarity = distance.get_jaro_distance(user_name, name)\n",
    "            if similarity >= threshold:\n",
    "                similar_names.append((name, similarity))\n",
    "        else:\n",
    "            for i in name:\n",
    "                similarity = distance.get_jaro_distance(user_name, i)\n",
    "                if similarity >= threshold:\n",
    "                    similar_names.append((' '.join(name), similarity))\n",
    "    return similar_names\n",
    "\n",
    "# Example usage\n",
    "\n"
   ]
  },
  {
   "cell_type": "code",
   "execution_count": 6,
   "metadata": {},
   "outputs": [
    {
     "data": {
      "text/plain": [
       "[('Vikram Sekar', 0.88), ('Ramesh sekar', 0.88)]"
      ]
     },
     "execution_count": 6,
     "metadata": {},
     "output_type": "execute_result"
    }
   ],
   "source": [
    "find_similar_names_jaro_winkler(\"rsekra\", names_list, threshold=0.8)"
   ]
  },
  {
   "cell_type": "code",
   "execution_count": 9,
   "metadata": {},
   "outputs": [],
   "source": [
    "from verifylead import verify_lead\n",
    "verify_lead(name=\"sekra\",email=\"\",phone=None,civil_id=None)"
   ]
  },
  {
   "cell_type": "code",
   "execution_count": null,
   "metadata": {},
   "outputs": [],
   "source": []
  },
  {
   "cell_type": "code",
   "execution_count": null,
   "metadata": {},
   "outputs": [],
   "source": []
  }
 ],
 "metadata": {
  "kernelspec": {
   "display_name": "base",
   "language": "python",
   "name": "python3"
  },
  "language_info": {
   "codemirror_mode": {
    "name": "ipython",
    "version": 3
   },
   "file_extension": ".py",
   "mimetype": "text/x-python",
   "name": "python",
   "nbconvert_exporter": "python",
   "pygments_lexer": "ipython3",
   "version": "3.12.4"
  }
 },
 "nbformat": 4,
 "nbformat_minor": 2
}
